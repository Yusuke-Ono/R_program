{
 "cells": [
  {
   "cell_type": "markdown",
   "metadata": {},
   "source": [
    "## $\\mu_1=3.0$，$\\mu_2 = \\mu_3 =0.0$，$\\sigma^2=1$，各群の標本サイズが5のときに，$H_0: \\mu_2 = \\mu_3$がどれぐらいの確率で棄却されるか？\n",
    "\n",
    "<a href=\"https://biolab.sakura.ne.jp/anova-post-hoc-multiple-comparison.html\">井口（2020）</a>にて，＜一元配置分散分析において，F検定で有意な場合のみに通常のTukey検定を行うと，検出力で損する＞ことが指摘されています．\n",
    "\n",
    "一方，永田・吉田（1997, p.32）や，Hsu（p.39）で述べられているように，＜3群のときだけは，制約付きFisherのLSD法は，仮説全体の過誤（FWE: familywise error）を守る＞ことが知られています．\n",
    "\n",
    "また，（信頼区間には興味がなく，検定だけに興味があるのであれば，）＜ステップダウン法は，通常のTukey法などの同時信頼領域方式よりも，検出力が高い＞ことが知られています．\n",
    "\n",
    "以下では，3群で $\\mu_1=3.0$，$\\mu_2 = \\mu_3 =0$，$\\sigma^2=1$，各群の標本サイズが5である場合，ステップダウン法（FisherのLSD法と，ステップダウンのTukey法）と，通常のTukey法（同時信頼領域方式のTukey法）で，名目的な有意水準を5%としたとき， $H_0: \\mu_2 = \\mu_3$に対する検定の実質的な有意水準がどれぐらいになるのか，乱数シミュレーションで比較してみました．名目的な有意水準を5%にした検定では，実際に5%の確率で棄却されるのが望ましいです．\n",
    "\n",
    "検定だけに興味があるならば，（F検定を行わない）通常のTukey検定は検出力の点で損をします．よって，もしも＜一元配置分散分析において，F検定で有意な場合のみに通常のTukey検定を行うと，検出力で損する＞ことを批判するならば，通常のTukey検定も批判すべきだと思います．\n",
    "\n",
    "（注：4群以上のステップダウン方式は複雑になります．3群の場合は，最初に$H_0: \\mu_1 = \\mu_2 = \\mu_3$の検定をした後，それが有意であれば，通常のペア比較をすればいいだけになっています．）\n",
    "\n",
    "\n",
    "### 文献\n",
    "井口豊（2020）分散分析の下位に多重検定を置くな \n",
    "https://biolab.sakura.ne.jp/anova-post-hoc-multiple-comparison.html\n",
    "\n",
    "永田靖・吉田道弘（1997）『統計的多重比較法の基礎』サイエンティスト社\n",
    "\n",
    "Hsu, J. (1996), _Multiple Comparisons: Theory and Methods_, Chapman and Hall\n"
   ]
  },
  {
   "cell_type": "code",
   "execution_count": 1,
   "metadata": {},
   "outputs": [
    {
     "name": "stdout",
     "output_type": "stream",
     "text": [
      "[1] 0.0504\n",
      "[1] 0.0207\n",
      "[1] 0.0504\n"
     ]
    },
    {
     "data": {
      "image/png": "[encoded data removed]",
      "text/plain": [
       "plot without title"
      ]
     },
     "metadata": {
      "image/png": {
       "height": 420,
       "width": 420
      }
     },
     "output_type": "display_data"
    }
   ],
   "source": [
    "n_group = 3\n",
    "n_in_each_group = 5\n",
    "n = n_group * n_in_each_group\n",
    "dfe = n - n_group\n",
    "mu = rep(c(3.0, rep(0, n_group - 1)), n_in_each_group)\n",
    "group = factor(rep(1:n_group, n_in_each_group))\n",
    "x = model.matrix(~-1 + group, group)\n",
    "dh = solve(t(x) %*% x) %*% t(x)\n",
    "h = x %*% solve(t(x) %*% x) %*% t(x)\n",
    "\n",
    "qf = qf(0.95, 2, dfe)\n",
    "qt = qt(0.975, dfe)\n",
    "q_tukey = qtukey(0.95, n_group, dfe) / sqrt(2) ###2.66775681705548 ## Calculated by Tukey HSD Quantile(0.95, 3, 12) on JMP ##\n",
    "\n",
    "n_sig_LSD = 0\n",
    "n_sig_Tukey = 0\n",
    "n_sig_Tukey_stepdown = 0\n",
    "\n",
    "n_sim = 10000\n",
    "\n",
    "set.seed(4321)\n",
    "\n",
    "for(i in 1:n_sim){\n",
    "    y = mu + rnorm(n_group * n_in_each_group)\n",
    "    mean = dh %*% y\n",
    "    ypred = h %*% y\n",
    "    sse = sum((y - ypred)**2)\n",
    "    mse = sse / dfe\n",
    "    ssh = sum((ypred - mean(y))**2)\n",
    "    f = (ssh / 2) / mse\n",
    "    sig_anova =  f > qf\n",
    "    se = sqrt((2 / n_in_each_group) * mse)\n",
    "    d12 = mean[1] - mean[2]\n",
    "    d13 = mean[1] - mean[3]\n",
    "    d23 = mean[2] - mean[3]\n",
    "    t12 = abs(d12 / se)\n",
    "    t13 = abs(d13 / se)\n",
    "    t23 = abs(d23 / se)\n",
    "    max_t = max(t12, t13, t23)\n",
    "    sig_Tukey_all = (max_t > q_tukey)\n",
    "    sig_Tukey = (t23 > q_tukey)\n",
    "    sig_unadj = (t23 > qt)\n",
    "\n",
    "    n_sig_LSD = n_sig_LSD + as.numeric(sig_anova & sig_unadj)\n",
    "    n_sig_Tukey = n_sig_Tukey + as.numeric(sig_Tukey)\n",
    "    n_sig_Tukey_stepdown = n_sig_Tukey_stepdown + as.numeric(sig_Tukey_all & sig_unadj)\n",
    "}\n",
    "        \n",
    "prob_sig_LSD = n_sig_LSD / n_sim\n",
    "prob_sig_Tukey = n_sig_Tukey / n_sim\n",
    "prob_sig_Tukey_stepdown = n_sig_Tukey_stepdown / n_sim\n",
    "\n",
    "print(prob_sig_LSD)\n",
    "print(prob_sig_Tukey)\n",
    "print(prob_sig_Tukey_stepdown)\n",
    "\n",
    "        \n",
    "barplot(\n",
    " c(prob_sig_LSD, prob_sig_Tukey, prob_sig_Tukey_stepdown), \n",
    " names.arg =c(\"Fisher Protected LSD\", \"Tukey Test Only\", \"Stepdown Tukey Test\"), \n",
    "    ylab = \"True Alpha for Nominal Alpha Level = 0.05\",\n",
    "    ylim = c(0, 0.06)\n",
    ")\n",
    "abline(h = 0.05, col = \"blue\")\n"
   ]
  }
 ],
 "metadata": {
  "kernelspec": {
   "display_name": "R",
   "language": "R",
   "name": "ir"
  },
  "language_info": {
   "codemirror_mode": "r",
   "file_extension": ".r",
   "mimetype": "text/x-r-source",
   "name": "R",
   "pygments_lexer": "r",
   "version": "3.5.1"
  }
 },
 "nbformat": 4,
 "nbformat_minor": 2
}
