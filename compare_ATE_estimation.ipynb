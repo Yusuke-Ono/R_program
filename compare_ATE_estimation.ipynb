{
 "cells": [
  {
   "cell_type": "code",
   "execution_count": 1,
   "metadata": {},
   "outputs": [],
   "source": [
    "set.seed(1111111)\n",
    "\n",
    "n = 2000000\n",
    "nhalf <- n / 2\n",
    "beta <- 1\n",
    "int <- 0"
   ]
  },
  {
   "cell_type": "code",
   "execution_count": 2,
   "metadata": {},
   "outputs": [
    {
     "data": {
      "text/html": [
       "0.120382616966612"
      ],
      "text/latex": [
       "0.120382616966612"
      ],
      "text/markdown": [
       "0.120382616966612"
      ],
      "text/plain": [
       "[1] 0.1203826"
      ]
     },
     "metadata": {},
     "output_type": "display_data"
    }
   ],
   "source": [
    "D <- c(rep(1, nhalf), rep(0, nhalf))\n",
    "\n",
    "x1 <- (D - 0.5) + rnorm(n)\n",
    "x2 <- (D - 0.5) + x1 + rnorm(n)\n",
    "\n",
    "p1 <- 1/(1+exp(-(int + x1 + x2 + beta)))\n",
    "p0 <- 1/(1+exp(-(int + x1 + x2)))\n",
    "true_ate <- mean(p1 - p0)\n",
    "true_ate"
   ]
  },
  {
   "cell_type": "code",
   "execution_count": 3,
   "metadata": {},
   "outputs": [],
   "source": [
    "p <-  1/(1+exp(-(int + x1 + x2 + beta * D)))\n",
    "Y <- rbinom(n, 1, p)"
   ]
  },
  {
   "cell_type": "code",
   "execution_count": 4,
   "metadata": {},
   "outputs": [
    {
     "data": {
      "text/plain": [
       "\n",
       "Call:\n",
       "lm(formula = Y ~ D + x1 + x2)\n",
       "\n",
       "Residuals:\n",
       "     Min       1Q   Median       3Q      Max \n",
       "-1.44107 -0.25768 -0.00009  0.25784  1.43363 \n",
       "\n",
       "Coefficients:\n",
       "             Estimate Std. Error t value Pr(>|t|)    \n",
       "(Intercept) 0.4604986  0.0003913  1176.8   <2e-16 ***\n",
       "D           0.1874559  0.0006061   309.3   <2e-16 ***\n",
       "x1          0.1086423  0.0003499   310.5   <2e-16 ***\n",
       "x2          0.1083747  0.0002473   438.2   <2e-16 ***\n",
       "---\n",
       "Signif. codes:  0 ‘***’ 0.001 ‘**’ 0.01 ‘*’ 0.05 ‘.’ 0.1 ‘ ’ 1\n",
       "\n",
       "Residual standard error: 0.3499 on 1999996 degrees of freedom\n",
       "Multiple R-squared:  0.5044,\tAdjusted R-squared:  0.5044 \n",
       "F-statistic: 6.785e+05 on 3 and 1999996 DF,  p-value: < 2.2e-16\n"
      ]
     },
     "metadata": {},
     "output_type": "display_data"
    }
   ],
   "source": [
    "#### Linear ####\n",
    "fit_linear <- lm(Y ~ D + x1 + x2)\n",
    "summary(fit_linear)\n",
    "linear_ate_est <- coef(fit_linear)[[2]]"
   ]
  },
  {
   "cell_type": "code",
   "execution_count": 5,
   "metadata": {},
   "outputs": [
    {
     "data": {
      "text/plain": [
       "\n",
       "Call:\n",
       "glm(formula = Y ~ D + x1 + x2, family = binomial(link = \"logit\"))\n",
       "\n",
       "Deviance Residuals: \n",
       "    Min       1Q   Median       3Q      Max  \n",
       "-4.0839  -0.4718   0.0999   0.4859   4.0679  \n",
       "\n",
       "Coefficients:\n",
       "            Estimate Std. Error z value Pr(>|z|)    \n",
       "(Intercept) 0.000764   0.003024   0.253    0.801    \n",
       "D           0.998819   0.004494 222.258   <2e-16 ***\n",
       "x1          1.005466   0.003291 305.532   <2e-16 ***\n",
       "x2          1.002857   0.002488 403.018   <2e-16 ***\n",
       "---\n",
       "Signif. codes:  0 ‘***’ 0.001 ‘**’ 0.01 ‘*’ 0.05 ‘.’ 0.1 ‘ ’ 1\n",
       "\n",
       "(Dispersion parameter for binomial family taken to be 1)\n",
       "\n",
       "    Null deviance: 2749204  on 1999999  degrees of freedom\n",
       "Residual deviance: 1371179  on 1999996  degrees of freedom\n",
       "AIC: 1371187\n",
       "\n",
       "Number of Fisher Scoring iterations: 6\n"
      ]
     },
     "metadata": {},
     "output_type": "display_data"
    }
   ],
   "source": [
    "#### Logistic #####\n",
    "fit_logistic <- glm(Y ~ D + x1 + x2, family=binomial(link = \"logit\"))\n",
    "summary(fit_logistic)\n",
    "m1 = mean(predict(object = fit_logistic, newdata = data.frame(D=1, x1, x2), type = \"response\"))\n",
    "m0 = mean(predict(object = fit_logistic, newdata = data.frame(D=0, x1, x2), type = \"response\"))\n",
    "logistic_ate_est = m1 - m0"
   ]
  },
  {
   "cell_type": "code",
   "execution_count": 6,
   "metadata": {},
   "outputs": [
    {
     "data": {
      "text/html": [
       "0.120382616966612"
      ],
      "text/latex": [
       "0.120382616966612"
      ],
      "text/markdown": [
       "0.120382616966612"
      ],
      "text/plain": [
       "[1] 0.1203826"
      ]
     },
     "metadata": {},
     "output_type": "display_data"
    },
    {
     "data": {
      "text/html": [
       "0.187455881886412"
      ],
      "text/latex": [
       "0.187455881886412"
      ],
      "text/markdown": [
       "0.187455881886412"
      ],
      "text/plain": [
       "[1] 0.1874559"
      ]
     },
     "metadata": {},
     "output_type": "display_data"
    },
    {
     "data": {
      "text/html": [
       "0.119911395666844"
      ],
      "text/latex": [
       "0.119911395666844"
      ],
      "text/markdown": [
       "0.119911395666844"
      ],
      "text/plain": [
       "[1] 0.1199114"
      ]
     },
     "metadata": {},
     "output_type": "display_data"
    }
   ],
   "source": [
    "true_ate\n",
    "linear_ate_est\n",
    "logistic_ate_est\n"
   ]
  }
 ],
 "metadata": {
  "kernelspec": {
   "display_name": "R",
   "language": "R",
   "name": "ir"
  },
  "language_info": {
   "codemirror_mode": "r",
   "file_extension": ".r",
   "mimetype": "text/x-r-source",
   "name": "R",
   "pygments_lexer": "r",
   "version": "4.0.2"
  }
 },
 "nbformat": 4,
 "nbformat_minor": 4
}
